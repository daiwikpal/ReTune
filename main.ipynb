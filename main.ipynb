{
 "cells": [
  {
   "cell_type": "code",
   "execution_count": 2,
   "metadata": {},
   "outputs": [],
   "source": [
    "from pathlib import Path\n",
    "from typing import Tuple, List\n",
    "\n",
    "import implicit\n",
    "\n",
    "from model.data import load_user_artists, ArtistRetriever\n",
    "from model.recommender import ImplicitRecommender"
   ]
  },
  {
   "cell_type": "code",
   "execution_count": 3,
   "metadata": {},
   "outputs": [
    {
     "name": "stderr",
     "output_type": "stream",
     "text": [
      "100%|██████████| 10/10 [00:00<00:00, 12.43it/s]"
     ]
    },
    {
     "name": "stdout",
     "output_type": "stream",
     "text": [
      "Aphex Twin: 1.4655592441558838\n",
      "Scissor Sisters: 1.395156979560852\n",
      "Hans Zimmer: 1.3824552297592163\n",
      "Annie Lennox: 1.379028558731079\n",
      "Robbie Williams: 1.3748531341552734\n"
     ]
    },
    {
     "name": "stderr",
     "output_type": "stream",
     "text": [
      "\n"
     ]
    }
   ],
   "source": [
    "# load user artists matrix\n",
    "user_artists = load_user_artists(Path(\"lastfmdata/user_artists.dat\"))\n",
    "\n",
    "# instantiate artist retriever\n",
    "artist_retriever = ArtistRetriever()\n",
    "artist_retriever.load_artists(Path(\"lastfmdata/artists.dat\"))\n",
    "\n",
    "# instantiate ALS using implicit\n",
    "implict_model = implicit.als.AlternatingLeastSquares(\n",
    "    factors=50, iterations=10, regularization=0.01\n",
    ")\n",
    "\n",
    "# instantiate recommender, fit, and recommend\n",
    "recommender = ImplicitRecommender(artist_retriever, implict_model)\n",
    "recommender.fit(user_artists)\n",
    "artists, scores = recommender.recommend(2, user_artists, n=5)\n",
    "\n",
    "# print results\n",
    "for artist, score in zip(artists, scores):\n",
    "    print(f\"{artist}: {score}\")"
   ]
  }
 ],
 "metadata": {
  "kernelspec": {
   "display_name": "ReTune",
   "language": "python",
   "name": "python3"
  },
  "language_info": {
   "codemirror_mode": {
    "name": "ipython",
    "version": 3
   },
   "file_extension": ".py",
   "mimetype": "text/x-python",
   "name": "python",
   "nbconvert_exporter": "python",
   "pygments_lexer": "ipython3",
   "version": "3.11.11"
  }
 },
 "nbformat": 4,
 "nbformat_minor": 2
}
